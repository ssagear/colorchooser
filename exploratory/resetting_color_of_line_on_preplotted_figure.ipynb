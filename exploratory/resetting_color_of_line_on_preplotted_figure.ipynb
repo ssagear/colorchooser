{
 "cells": [
  {
   "cell_type": "code",
   "execution_count": 107,
   "id": "38d254cf",
   "metadata": {},
   "outputs": [],
   "source": [
    "import matplotlib.pyplot as plt\n",
    "import matplotlib\n",
    "import numpy as np"
   ]
  },
  {
   "cell_type": "code",
   "execution_count": 105,
   "id": "cf267648",
   "metadata": {},
   "outputs": [
    {
     "data": {
      "image/png": "[encoded data removed]",
      "text/plain": [
       "<Figure size 360x360 with 2 Axes>"
      ]
     },
     "metadata": {
      "needs_background": "light"
     },
     "output_type": "display_data"
    }
   ],
   "source": [
    "fig, ax = plt.subplots(2,1,figsize = (5,5))\n",
    "\n",
    "ax[0].plot([0,1],[0,1],\n",
    "        color = 'k',\n",
    "        linewidth = 2)\n",
    "\n",
    "ax[0].plot([1,0],[0,1],\n",
    "        color = 'b',\n",
    "        linewidth = 2)\n",
    "\n",
    "ax[1].scatter([0,1,2], [0,1,2],\n",
    "              color = 'purple',\n",
    "              marker = 'o')\n",
    "\n",
    "fig.get_children()[1].get_children()[0].set_color('r')"
   ]
  },
  {
   "cell_type": "code",
   "execution_count": 90,
   "id": "7e1b34c4",
   "metadata": {},
   "outputs": [
    {
     "data": {
      "text/plain": [
       "matplotlib.axes._subplots.AxesSubplot"
      ]
     },
     "execution_count": 90,
     "metadata": {},
     "output_type": "execute_result"
    }
   ],
   "source": [
    "type(ax)"
   ]
  },
  {
   "cell_type": "code",
   "execution_count": 44,
   "id": "b26c6ac6",
   "metadata": {},
   "outputs": [],
   "source": [
    "fig.get_children()[1:]"
   ]
  },
  {
   "cell_type": "code",
   "execution_count": 47,
   "id": "6a076e41",
   "metadata": {},
   "outputs": [
    {
     "data": {
      "text/plain": [
       "[<matplotlib.lines.Line2D at 0x139bb7a90>,\n",
       " <matplotlib.lines.Line2D at 0x139bb7d00>,\n",
       " <matplotlib.spines.Spine at 0x111035ab0>,\n",
       " <matplotlib.spines.Spine at 0x111035bd0>,\n",
       " <matplotlib.spines.Spine at 0x111035cf0>,\n",
       " <matplotlib.spines.Spine at 0x111035e10>,\n",
       " <matplotlib.axis.XAxis at 0x111035a50>,\n",
       " <matplotlib.axis.YAxis at 0x110f4f9d0>,\n",
       " Text(0.5, 1.0, ''),\n",
       " Text(0.0, 1.0, ''),\n",
       " Text(1.0, 1.0, ''),\n",
       " <matplotlib.patches.Rectangle at 0x111036c50>]"
      ]
     },
     "execution_count": 47,
     "metadata": {},
     "output_type": "execute_result"
    }
   ],
   "source": [
    "fig.get_children()[1].get_children()"
   ]
  },
  {
   "cell_type": "code",
   "execution_count": 48,
   "id": "dd7e249a",
   "metadata": {},
   "outputs": [
    {
     "data": {
      "text/plain": [
       "['_PROPERTIES_EXCLUDED_FROM_SET',\n",
       " '__class__',\n",
       " '__delattr__',\n",
       " '__dict__',\n",
       " '__dir__',\n",
       " '__doc__',\n",
       " '__eq__',\n",
       " '__format__',\n",
       " '__ge__',\n",
       " '__getattribute__',\n",
       " '__getstate__',\n",
       " '__gt__',\n",
       " '__hash__',\n",
       " '__init__',\n",
       " '__init_subclass__',\n",
       " '__le__',\n",
       " '__lt__',\n",
       " '__module__',\n",
       " '__ne__',\n",
       " '__new__',\n",
       " '__reduce__',\n",
       " '__reduce_ex__',\n",
       " '__repr__',\n",
       " '__setattr__',\n",
       " '__sizeof__',\n",
       " '__str__',\n",
       " '__subclasshook__',\n",
       " '__weakref__',\n",
       " '_agg_filter',\n",
       " '_alias_map',\n",
       " '_alpha',\n",
       " '_animated',\n",
       " '_antialiased',\n",
       " '_axes',\n",
       " '_callbacks',\n",
       " '_clipon',\n",
       " '_clippath',\n",
       " '_cm_set',\n",
       " '_color',\n",
       " '_dashOffset',\n",
       " '_dashSeq',\n",
       " '_dashcapstyle',\n",
       " '_dashjoinstyle',\n",
       " '_default_contains',\n",
       " '_drawStyles_l',\n",
       " '_drawStyles_s',\n",
       " '_drawstyle',\n",
       " '_get_clipping_extent_bbox',\n",
       " '_get_markerfacecolor',\n",
       " '_get_transformed_path',\n",
       " '_gid',\n",
       " '_in_layout',\n",
       " '_invalidx',\n",
       " '_invalidy',\n",
       " '_is_sorted',\n",
       " '_label',\n",
       " '_lineStyles',\n",
       " '_linestyle',\n",
       " '_linestyles',\n",
       " '_linewidth',\n",
       " '_marker',\n",
       " '_markeredgecolor',\n",
       " '_markeredgewidth',\n",
       " '_markerfacecolor',\n",
       " '_markerfacecoloralt',\n",
       " '_markersize',\n",
       " '_markevery',\n",
       " '_mouseover',\n",
       " '_path',\n",
       " '_path_effects',\n",
       " '_picker',\n",
       " '_pickradius',\n",
       " '_rasterized',\n",
       " '_remove_method',\n",
       " '_set_alpha_for_array',\n",
       " '_set_gc_clip',\n",
       " '_set_markercolor',\n",
       " '_sketch',\n",
       " '_snap',\n",
       " '_solidcapstyle',\n",
       " '_solidjoinstyle',\n",
       " '_stale',\n",
       " '_sticky_edges',\n",
       " '_subslice',\n",
       " '_transform',\n",
       " '_transformSet',\n",
       " '_transform_path',\n",
       " '_transformed_path',\n",
       " '_update_set_signature_and_docstring',\n",
       " '_url',\n",
       " '_us_dashOffset',\n",
       " '_us_dashSeq',\n",
       " '_visible',\n",
       " '_x',\n",
       " '_x_filled',\n",
       " '_xorig',\n",
       " '_xy',\n",
       " '_y',\n",
       " '_yorig',\n",
       " 'add_callback',\n",
       " 'axes',\n",
       " 'clipbox',\n",
       " 'contains',\n",
       " 'convert_xunits',\n",
       " 'convert_yunits',\n",
       " 'draw',\n",
       " 'drawStyleKeys',\n",
       " 'drawStyles',\n",
       " 'figure',\n",
       " 'fillStyles',\n",
       " 'filled_markers',\n",
       " 'findobj',\n",
       " 'format_cursor_data',\n",
       " 'get_aa',\n",
       " 'get_agg_filter',\n",
       " 'get_alpha',\n",
       " 'get_animated',\n",
       " 'get_antialiased',\n",
       " 'get_c',\n",
       " 'get_children',\n",
       " 'get_clip_box',\n",
       " 'get_clip_on',\n",
       " 'get_clip_path',\n",
       " 'get_color',\n",
       " 'get_cursor_data',\n",
       " 'get_dash_capstyle',\n",
       " 'get_dash_joinstyle',\n",
       " 'get_data',\n",
       " 'get_drawstyle',\n",
       " 'get_ds',\n",
       " 'get_figure',\n",
       " 'get_fillstyle',\n",
       " 'get_gid',\n",
       " 'get_in_layout',\n",
       " 'get_label',\n",
       " 'get_linestyle',\n",
       " 'get_linewidth',\n",
       " 'get_ls',\n",
       " 'get_lw',\n",
       " 'get_marker',\n",
       " 'get_markeredgecolor',\n",
       " 'get_markeredgewidth',\n",
       " 'get_markerfacecolor',\n",
       " 'get_markerfacecoloralt',\n",
       " 'get_markersize',\n",
       " 'get_markevery',\n",
       " 'get_mec',\n",
       " 'get_mew',\n",
       " 'get_mfc',\n",
       " 'get_mfcalt',\n",
       " 'get_ms',\n",
       " 'get_path',\n",
       " 'get_path_effects',\n",
       " 'get_picker',\n",
       " 'get_pickradius',\n",
       " 'get_rasterized',\n",
       " 'get_sketch_params',\n",
       " 'get_snap',\n",
       " 'get_solid_capstyle',\n",
       " 'get_solid_joinstyle',\n",
       " 'get_tightbbox',\n",
       " 'get_transform',\n",
       " 'get_transformed_clip_path_and_affine',\n",
       " 'get_url',\n",
       " 'get_visible',\n",
       " 'get_window_extent',\n",
       " 'get_xdata',\n",
       " 'get_xydata',\n",
       " 'get_ydata',\n",
       " 'get_zorder',\n",
       " 'have_units',\n",
       " 'ind_offset',\n",
       " 'is_dashed',\n",
       " 'is_transform_set',\n",
       " 'lineStyles',\n",
       " 'markers',\n",
       " 'mouseover',\n",
       " 'pchanged',\n",
       " 'pick',\n",
       " 'pickable',\n",
       " 'pickradius',\n",
       " 'properties',\n",
       " 'recache',\n",
       " 'recache_always',\n",
       " 'remove',\n",
       " 'remove_callback',\n",
       " 'set',\n",
       " 'set_aa',\n",
       " 'set_agg_filter',\n",
       " 'set_alpha',\n",
       " 'set_animated',\n",
       " 'set_antialiased',\n",
       " 'set_c',\n",
       " 'set_clip_box',\n",
       " 'set_clip_on',\n",
       " 'set_clip_path',\n",
       " 'set_color',\n",
       " 'set_dash_capstyle',\n",
       " 'set_dash_joinstyle',\n",
       " 'set_dashes',\n",
       " 'set_data',\n",
       " 'set_drawstyle',\n",
       " 'set_ds',\n",
       " 'set_figure',\n",
       " 'set_fillstyle',\n",
       " 'set_gid',\n",
       " 'set_in_layout',\n",
       " 'set_label',\n",
       " 'set_linestyle',\n",
       " 'set_linewidth',\n",
       " 'set_ls',\n",
       " 'set_lw',\n",
       " 'set_marker',\n",
       " 'set_markeredgecolor',\n",
       " 'set_markeredgewidth',\n",
       " 'set_markerfacecolor',\n",
       " 'set_markerfacecoloralt',\n",
       " 'set_markersize',\n",
       " 'set_markevery',\n",
       " 'set_mec',\n",
       " 'set_mew',\n",
       " 'set_mfc',\n",
       " 'set_mfcalt',\n",
       " 'set_ms',\n",
       " 'set_path_effects',\n",
       " 'set_picker',\n",
       " 'set_pickradius',\n",
       " 'set_rasterized',\n",
       " 'set_sketch_params',\n",
       " 'set_snap',\n",
       " 'set_solid_capstyle',\n",
       " 'set_solid_joinstyle',\n",
       " 'set_transform',\n",
       " 'set_url',\n",
       " 'set_visible',\n",
       " 'set_xdata',\n",
       " 'set_ydata',\n",
       " 'set_zorder',\n",
       " 'stale',\n",
       " 'stale_callback',\n",
       " 'sticky_edges',\n",
       " 'update',\n",
       " 'update_from',\n",
       " 'validCap',\n",
       " 'validJoin',\n",
       " 'zorder']"
      ]
     },
     "execution_count": 48,
     "metadata": {},
     "output_type": "execute_result"
    }
   ],
   "source": [
    "dir(fig.get_children()[1].get_children()[0])"
   ]
  },
  {
   "cell_type": "code",
   "execution_count": 56,
   "id": "69944bcd",
   "metadata": {},
   "outputs": [
    {
     "data": {
      "text/plain": [
       "'_child0'"
      ]
     },
     "execution_count": 56,
     "metadata": {},
     "output_type": "execute_result"
    }
   ],
   "source": [
    "fig.get_children()[1].get_children()[0].get_label()"
   ]
  },
  {
   "cell_type": "code",
   "execution_count": 104,
   "id": "dab0eaf5",
   "metadata": {},
   "outputs": [],
   "source": [
    "# Given a figure, return the subplots and their children\n",
    "\n",
    "class ExtractedFigure(object):\n",
    "    \"\"\"\n",
    "    Extract the plotted Artists in the AxesSubplots of a Figure and\n",
    "    enable the reconfiguration of the Artist attributes\n",
    "    \"\"\"\n",
    "    \n",
    "    def __init__(self, fig):\n",
    "        \"\"\"\n",
    "        Initialize the ExtractedFigure object\n",
    "        \n",
    "        Parameters:\n",
    "        -------------\n",
    "        fig: matplotlib.figure.Figure\n",
    "            The Figure that will have its Artists modified\n",
    "        \"\"\"\n",
    "        self.extracted_figure = fig\n",
    "        \n",
    "    def retrieve_figure_subplots(self):\n",
    "        \"\"\"\n",
    "        Extract the list of matplotlib AxesSubplots in the Figure\n",
    "        \n",
    "        (Note: the datatype of the AxesSubplot will be \n",
    "         matplotlib.axes._subplots.AxesSubplot)\n",
    "        \"\"\"\n",
    "        \n",
    "        figure_subplots = []\n",
    "        \n",
    "        # Get the children of the Figure\n",
    "        figure_children = self.extracted_figure.get_children()\n",
    "        \n",
    "        # If the item in the list of Figure children is a subclass of \n",
    "        # matplotlib.axes._subplots.SubplotBase, then it is an AxesSubplot\n",
    "        for item in figure_children:\n",
    "            if issubclass(type(item), matplotlib.axes._subplots.SubplotBase):\n",
    "                figure_subplots.append(item)\n",
    "            else:\n",
    "                None\n",
    "                \n",
    "        # Save the AxesSubplot list\n",
    "        self.axes_array = np.array(figure_subplots)\n",
    "        \n",
    "        return\n",
    "    \n",
    "    def retrieve_axes_artists(self):\n",
    "        \"\"\"\n",
    "        For all AxesSubplots in the Figure, retrieve \n",
    "        \"\"\"\n",
    "        "
   ]
  },
  {
   "cell_type": "code",
   "execution_count": 109,
   "id": "451e93f9",
   "metadata": {},
   "outputs": [
    {
     "name": "stdout",
     "output_type": "stream",
     "text": [
      "[<AxesSubplot:> <AxesSubplot:>]\n"
     ]
    }
   ],
   "source": [
    "extractedfig = ExtractedFigure(fig)\n",
    "extractedfig.retrieve_figure_subplots()\n",
    "print(extractedfig.axes_array)"
   ]
  },
  {
   "cell_type": "code",
   "execution_count": 103,
   "id": "10b15eaa",
   "metadata": {},
   "outputs": [
    {
     "data": {
      "text/plain": [
       "True"
      ]
     },
     "execution_count": 103,
     "metadata": {},
     "output_type": "execute_result"
    }
   ],
   "source": [
    "issubclass(b, matplotlib.axes._subplots.SubplotBase)"
   ]
  },
  {
   "cell_type": "code",
   "execution_count": null,
   "id": "cce1fef2",
   "metadata": {},
   "outputs": [],
   "source": []
  }
 ],
 "metadata": {
  "kernelspec": {
   "display_name": "Python [conda env:codeastro]",
   "language": "python",
   "name": "conda-env-codeastro-py"
  },
  "language_info": {
   "codemirror_mode": {
    "name": "ipython",
    "version": 3
   },
   "file_extension": ".py",
   "mimetype": "text/x-python",
   "name": "python",
   "nbconvert_exporter": "python",
   "pygments_lexer": "ipython3",
   "version": "3.10.4"
  }
 },
 "nbformat": 4,
 "nbformat_minor": 5
}
