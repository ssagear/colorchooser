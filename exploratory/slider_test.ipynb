{
 "cells": [
  {
   "cell_type": "code",
   "execution_count": 1,
   "metadata": {},
   "outputs": [],
   "source": [
    "import PySimpleGUI as sg"
   ]
  },
  {
   "cell_type": "code",
   "execution_count": 2,
   "metadata": {},
   "outputs": [],
   "source": [
    "sg.theme(\"LightBlue\")\n",
    "#define layout\n",
    "layout=[\n",
    "        [sg.Text(\"Enter start value\",font='Lucida'),\n",
    "         sg.Input(key='stVal',size=(3, 1)),\n",
    "         sg.Text(\"Enter end value\", font='Lucida'),\n",
    "         sg.Input(key='enVal',size=(3, 1))],\n",
    "        [sg.Text(\"Color map\", font ='Lucinda'), sg.Slider(orientation ='horizontal', key='stSlider', range=(1,100))],\n",
    "        [sg.Text(\"Variation \", font ='Lucinda'), sg.Slider(orientation ='horizontal', key='endSlider',range=(1,100))],\n",
    "        [sg.Submit(key='btnSubmit'), sg.Cancel()]\n",
    "        ]\n",
    "\n",
    "\n",
    "#Define Window\n",
    "window =sg.Window(\"Color Chooser\",layout)\n",
    "#Read  values entered by user\n",
    "event,values=window.read()\n",
    "\n",
    "window['stVal'].update(int(values['stSlider']))\n",
    "window['enVal'].update(int(values['endSlider']))\n",
    "event,values=window.read()\n",
    "i=int(values['stVal'])\n",
    "k=int(values['enVal'])\n",
    "window['btnSubmit'].set_focus()\n",
    "val=0\n",
    "\n",
    "for i in range(k):\n",
    "    event, values = window.read(timeout=100)\n",
    "    # update progress bar value\n",
    "    val=val+100/(k-i)    \n",
    "\n",
    "window.close()"
   ]
  },
  {
   "cell_type": "code",
   "execution_count": 3,
   "metadata": {},
   "outputs": [
    {
     "name": "stdout",
     "output_type": "stream",
     "text": [
      "{'stVal': '69', 'enVal': '1', 'stSlider': 69.0, 'endSlider': 1.0}\n"
     ]
    }
   ],
   "source": [
    "print(values)"
   ]
  },
  {
   "cell_type": "code",
   "execution_count": null,
   "metadata": {},
   "outputs": [],
   "source": []
  },
  {
   "cell_type": "code",
   "execution_count": null,
   "metadata": {},
   "outputs": [],
   "source": []
  }
 ],
 "metadata": {
  "kernelspec": {
   "display_name": "Python 3.10.4 ('codeastro')",
   "language": "python",
   "name": "python3"
  },
  "language_info": {
   "codemirror_mode": {
    "name": "ipython",
    "version": 3
   },
   "file_extension": ".py",
   "mimetype": "text/x-python",
   "name": "python",
   "nbconvert_exporter": "python",
   "pygments_lexer": "ipython3",
   "version": "3.10.4"
  },
  "orig_nbformat": 4,
  "vscode": {
   "interpreter": {
    "hash": "095acbd932634ecd0ccd7ea5f26bb426ec2a6d85746d7a816cd5e427677f989c"
   }
  }
 },
 "nbformat": 4,
 "nbformat_minor": 2
}
