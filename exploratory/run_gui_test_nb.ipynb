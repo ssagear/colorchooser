{
 "cells": [
  {
   "cell_type": "code",
   "execution_count": 1,
   "metadata": {},
   "outputs": [
    {
     "name": "stderr",
     "output_type": "stream",
     "text": [
      "/Users/ssagear/github/colorchooser/colorchooser/run_gui.py:62: SyntaxWarning: \"is\" with a literal. Did you mean \"==\"?\n",
      "  elif event is 'Plot':\n"
     ]
    }
   ],
   "source": [
    "import matplotlib.pyplot as plt\n",
    "import matplotlib\n",
    "import numpy as np\n",
    "import pdb\n",
    "from matplotlib.collections import (\n",
    "    Collection, CircleCollection, LineCollection, PathCollection,\n",
    "    PolyCollection, RegularPolyCollection)\n",
    "from matplotlib.container import ErrorbarContainer, BarContainer, StemContainer\n",
    "from matplotlib.patches import (Patch, Rectangle, Shadow, FancyBboxPatch,\n",
    "                                StepPatch)\n",
    "from matplotlib.lines import Line2D\n",
    "\n",
    "\n",
    "from colorchooser import extracted_figure_class as efc\n",
    "from colorchooser import run_gui as run\n",
    "import PySimpleGUI as sg"
   ]
  },
  {
   "cell_type": "code",
   "execution_count": 6,
   "metadata": {},
   "outputs": [
    {
     "data": {
      "image/png": "[encoded data removed]",
      "text/plain": [
       "<Figure size 720x360 with 2 Axes>"
      ]
     },
     "metadata": {
      "needs_background": "light"
     },
     "output_type": "display_data"
    }
   ],
   "source": [
    "fig1, ax1 = plt.subplots(1,2,figsize = (10,5))\n",
    "\n",
    "ax1[0].plot([0,1],[0,1],\n",
    "        color = 'k',\n",
    "        linewidth = 2)\n",
    "\n",
    "ax1[0].plot([1,0],[0,1],\n",
    "        color = 'b',\n",
    "        linewidth = 2)\n",
    "\n",
    "ax1[0].hist(np.random.uniform(0,1,15),\n",
    "           bins = 10, density = True)\n",
    "\n",
    "ax1[1].scatter([0,1,2], [0,1,2],\n",
    "              color = 'purple',\n",
    "              marker = 'o')\n",
    "\n",
    "ax1[1].bar(x = [0,1,2],\n",
    "          height = [0.25, 0.5, 0.75],\n",
    "          width = 0.8)\n",
    "\n",
    "ax1[1].errorbar([2,3,4], [0,1,2],\n",
    "                 yerr = [0.1,0.1,0.1],\n",
    "                 fmt = 'o',\n",
    "                 capsize = 2,\n",
    "                 label = 'silly')\n",
    "\n",
    "\n",
    "\n",
    "ax1[0].set_xlabel('X', fontsize = 14)\n",
    "ax1[0].set_ylabel('Y', fontsize = 14)\n",
    "ax1[1].set_xlabel('X', fontsize = 14)\n",
    "ax1[1].set_ylabel('Y', fontsize = 14)\n",
    "ax1[0].grid()\n",
    "ax1[1].grid()\n",
    "\n"
   ]
  },
  {
   "cell_type": "code",
   "execution_count": 8,
   "metadata": {},
   "outputs": [],
   "source": [
    "extractedfig = efc.ExtractedFigure(fig = fig1)"
   ]
  },
  {
   "cell_type": "code",
   "execution_count": 12,
   "metadata": {},
   "outputs": [
    {
     "data": {
      "text/plain": [
       "<colorchooser.extracted_figure_class.ExtractedArtist at 0x7fc067a76380>"
      ]
     },
     "execution_count": 12,
     "metadata": {},
     "output_type": "execute_result"
    }
   ],
   "source": [
    "extractedfig.extracted_artist_list[0]"
   ]
  },
  {
   "cell_type": "code",
   "execution_count": 4,
   "metadata": {},
   "outputs": [
    {
     "data": {
      "text/plain": [
       "<Figure size 500x400 with 1 Axes>"
      ]
     },
     "execution_count": 4,
     "metadata": {},
     "output_type": "execute_result"
    }
   ],
   "source": [
    "extractedfig.extracted_figure"
   ]
  },
  {
   "cell_type": "code",
   "execution_count": 13,
   "metadata": {},
   "outputs": [
    {
     "name": "stdout",
     "output_type": "stream",
     "text": [
      "Plot {'controls_cv': None, 'fig_cv': None, 'color': '#707dff', 'lineSlider': 0.0}\n",
      "Exit {'controls_cv': None, 'fig_cv': None, 'color': '#707dff', 'lineSlider': 0.0}\n"
     ]
    }
   ],
   "source": [
    "run.run_GUI(fig)"
   ]
  },
  {
   "cell_type": "code",
   "execution_count": null,
   "metadata": {},
   "outputs": [],
   "source": []
  }
 ],
 "metadata": {
  "kernelspec": {
   "display_name": "Python 3.10.4 ('codeastro')",
   "language": "python",
   "name": "python3"
  },
  "language_info": {
   "codemirror_mode": {
    "name": "ipython",
    "version": 3
   },
   "file_extension": ".py",
   "mimetype": "text/x-python",
   "name": "python",
   "nbconvert_exporter": "python",
   "pygments_lexer": "ipython3",
   "version": "3.10.4"
  },
  "orig_nbformat": 4,
  "vscode": {
   "interpreter": {
    "hash": "095acbd932634ecd0ccd7ea5f26bb426ec2a6d85746d7a816cd5e427677f989c"
   }
  }
 },
 "nbformat": 4,
 "nbformat_minor": 2
}
