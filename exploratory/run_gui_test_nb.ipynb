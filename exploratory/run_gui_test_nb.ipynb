{
 "cells": [
  {
   "cell_type": "code",
   "execution_count": 38,
   "metadata": {},
   "outputs": [
    {
     "name": "stdout",
     "output_type": "stream",
     "text": [
      "The autoreload extension is already loaded. To reload it, use:\n",
      "  %reload_ext autoreload\n"
     ]
    }
   ],
   "source": [
    "import matplotlib.pyplot as plt\n",
    "import matplotlib\n",
    "import numpy as np\n",
    "import pdb\n",
    "from matplotlib.collections import (\n",
    "    Collection, CircleCollection, LineCollection, PathCollection,\n",
    "    PolyCollection, RegularPolyCollection)\n",
    "from matplotlib.container import ErrorbarContainer, BarContainer, StemContainer\n",
    "from matplotlib.patches import (Patch, Rectangle, Shadow, FancyBboxPatch,\n",
    "                                StepPatch)\n",
    "from matplotlib.lines import Line2D\n",
    "\n",
    "\n",
    "from plotpainter import extracted_figure_class as efc\n",
    "from plotpainter import run_gui as run\n",
    "import PySimpleGUI as sg\n",
    "\n",
    "%load_ext autoreload\n",
    "%autoreload 2"
   ]
  },
  {
   "cell_type": "code",
   "execution_count": 39,
   "metadata": {},
   "outputs": [
    {
     "data": {
      "text/plain": [
       "<ErrorbarContainer object of 3 artists>"
      ]
     },
     "execution_count": 39,
     "metadata": {},
     "output_type": "execute_result"
    },
    {
     "data": {
      "image/png": "[encoded data removed]",
      "text/plain": [
       "<Figure size 720x360 with 2 Axes>"
      ]
     },
     "metadata": {
      "needs_background": "light"
     },
     "output_type": "display_data"
    }
   ],
   "source": [
    "fig1, ax1 = plt.subplots(1,2,figsize = (10,5))\n",
    "\n",
    "ax1[0].plot([0,1],[0,1],\n",
    "        color = 'k',\n",
    "        linewidth = 2, label = 'peach')\n",
    "\n",
    "ax1[0].plot([1,0],[0,1],\n",
    "        color = 'b',\n",
    "        linewidth = 2, label = 'mango')\n",
    "\n",
    "ax1[0].hist(np.random.uniform(0,1,15),\n",
    "           bins = 10, density = True, label = 'papaya')\n",
    "\n",
    "ax1[1].scatter([0,1,2], [0,1,2],\n",
    "              color = 'purple',\n",
    "              marker = 'o', label = 'kiwi')\n",
    "\n",
    "ax1[1].bar(x = [0,1,2],\n",
    "          height = [0.25, 0.5, 0.75],\n",
    "          width = 0.8, label = 'apple')\n",
    "\n",
    "ax1[1].errorbar([2,3,4], [0,1,2],\n",
    "                 yerr = [0.1,0.1,0.1],\n",
    "                 fmt = 'o',\n",
    "                 capsize = 2,\n",
    "                 label = 'banana')\n",
    "\n",
    "\n",
    "\n",
    "# ax1[0].set_xlabel('X', fontsize = 14)\n",
    "# ax1[0].set_ylabel('Y', fontsize = 14)\n",
    "# ax1[1].set_xlabel('X', fontsize = 14)\n",
    "# ax1[1].set_ylabel('Y', fontsize = 14)\n",
    "# ax1[0].grid()\n",
    "# ax1[1].grid()\n",
    "\n",
    "#plt.legend()"
   ]
  },
  {
   "cell_type": "code",
   "execution_count": 40,
   "metadata": {},
   "outputs": [],
   "source": [
    "extractedfig = efc.ExtractedFigure(fig = fig1)"
   ]
  },
  {
   "cell_type": "code",
   "execution_count": 41,
   "metadata": {},
   "outputs": [
    {
     "data": {
      "text/plain": [
       "[array(['peach', 'mango', 'papaya', '_container0'], dtype='<U11'),\n",
       " array(['kiwi', 'apple', 'banana'], dtype='<U6')]"
      ]
     },
     "execution_count": 41,
     "metadata": {},
     "output_type": "execute_result"
    }
   ],
   "source": [
    "extractedfig.plotted_artists_labels"
   ]
  },
  {
   "cell_type": "code",
   "execution_count": 42,
   "metadata": {},
   "outputs": [
    {
     "data": {
      "text/plain": [
       "[[<plotpainter.extracted_figure_class.ExtractedArtist at 0x7fda37114490>,\n",
       "  <plotpainter.extracted_figure_class.ExtractedArtist at 0x7fda371145b0>,\n",
       "  <plotpainter.extracted_figure_class.ExtractedArtist at 0x7fda54230940>,\n",
       "  <plotpainter.extracted_figure_class.ExtractedArtist at 0x7fda54233c40>],\n",
       " [<plotpainter.extracted_figure_class.ExtractedArtist at 0x7fda54230790>,\n",
       "  <plotpainter.extracted_figure_class.ExtractedArtist at 0x7fda54233b20>,\n",
       "  <plotpainter.extracted_figure_class.ExtractedArtist at 0x7fda54233640>]]"
      ]
     },
     "execution_count": 42,
     "metadata": {},
     "output_type": "execute_result"
    }
   ],
   "source": [
    "extractedfig.extracted_artist_list"
   ]
  },
  {
   "cell_type": "code",
   "execution_count": 43,
   "metadata": {},
   "outputs": [
    {
     "name": "stderr",
     "output_type": "stream",
     "text": [
      "/var/folders/fw/4y8lcb2j7b19v6vfzm__2nf80000gn/T/ipykernel_65906/273146043.py:1: VisibleDeprecationWarning: Creating an ndarray from ragged nested sequences (which is a list-or-tuple of lists-or-tuples-or ndarrays with different lengths or shapes) is deprecated. If you meant to do this, you must specify 'dtype=object' when creating the ndarray.\n",
      "  np.array(extractedfig.plotted_artists_labels).shape\n"
     ]
    },
    {
     "data": {
      "text/plain": [
       "(2,)"
      ]
     },
     "execution_count": 43,
     "metadata": {},
     "output_type": "execute_result"
    }
   ],
   "source": [
    "np.array(extractedfig.plotted_artists_labels).shape"
   ]
  },
  {
   "cell_type": "code",
   "execution_count": 45,
   "metadata": {},
   "outputs": [
    {
     "name": "stdout",
     "output_type": "stream",
     "text": [
      "[array(['peach', 'mango', 'papaya'], dtype='<U11'), array(['kiwi', 'apple', 'banana'], dtype='<U6')]\n",
      "[array([<plotpainter.extracted_figure_class.ExtractedArtist object at 0x7fda370f2ce0>,\n",
      "       <plotpainter.extracted_figure_class.ExtractedArtist object at 0x7fda370f2440>,\n",
      "       <plotpainter.extracted_figure_class.ExtractedArtist object at 0x7fda54257490>],\n",
      "      dtype=object), [<plotpainter.extracted_figure_class.ExtractedArtist object at 0x7fda54257af0>, <plotpainter.extracted_figure_class.ExtractedArtist object at 0x7fda542568c0>, <plotpainter.extracted_figure_class.ExtractedArtist object at 0x7fda54256c80>]]\n"
     ]
    },
    {
     "name": "stderr",
     "output_type": "stream",
     "text": [
      "/Users/ssagear/github/plotpainter/plotpainter/run_gui.py:76: FutureWarning: elementwise comparison failed; returning scalar instead, but in the future will perform elementwise comparison\n",
      "  indices = np.where(artists == values['artst'])\n"
     ]
    },
    {
     "ename": "TypeError",
     "evalue": "only size-1 arrays can be converted to Python scalars",
     "output_type": "error",
     "traceback": [
      "\u001b[0;31m---------------------------------------------------------------------------\u001b[0m",
      "\u001b[0;31mTypeError\u001b[0m                                 Traceback (most recent call last)",
      "\u001b[1;32m/Users/ssagear/github/plotpainter/exploratory/run_gui_test_nb.ipynb Cell 7'\u001b[0m in \u001b[0;36m<cell line: 1>\u001b[0;34m()\u001b[0m\n\u001b[0;32m----> <a href='vscode-notebook-cell:/Users/ssagear/github/plotpainter/exploratory/run_gui_test_nb.ipynb#ch0000005?line=0'>1</a>\u001b[0m run\u001b[39m.\u001b[39;49mrun_GUI(fig1)\n",
      "File \u001b[0;32m~/github/plotpainter/plotpainter/run_gui.py:77\u001b[0m, in \u001b[0;36mrun_GUI\u001b[0;34m(fig)\u001b[0m\n\u001b[1;32m     74\u001b[0m event, values \u001b[39m=\u001b[39m window\u001b[39m.\u001b[39mread()\n\u001b[1;32m     76\u001b[0m indices \u001b[39m=\u001b[39m np\u001b[39m.\u001b[39mwhere(artists \u001b[39m==\u001b[39m values[\u001b[39m'\u001b[39m\u001b[39martst\u001b[39m\u001b[39m'\u001b[39m])\n\u001b[0;32m---> 77\u001b[0m splot \u001b[39m=\u001b[39m \u001b[39mint\u001b[39;49m(indices[\u001b[39m0\u001b[39;49m])\n\u001b[1;32m     78\u001b[0m art \u001b[39m=\u001b[39m \u001b[39mint\u001b[39m(indices[\u001b[39m1\u001b[39m])\n\u001b[1;32m     79\u001b[0m hex_code \u001b[39m=\u001b[39m values[\u001b[39m'\u001b[39m\u001b[39mcolor\u001b[39m\u001b[39m'\u001b[39m]\n",
      "\u001b[0;31mTypeError\u001b[0m: only size-1 arrays can be converted to Python scalars"
     ]
    },
    {
     "ename": "",
     "evalue": "",
     "output_type": "error",
     "traceback": [
      "\u001b[1;31mThe Kernel crashed while executing code in the the current cell or a previous cell. Please review the code in the cell(s) to identify a possible cause of the failure. Click <a href='https://aka.ms/vscodeJupyterKernelCrash'>here</a> for more info. View Jupyter <a href='command:jupyter.viewOutput'>log</a> for further details."
     ]
    }
   ],
   "source": [
    "run.run_GUI(fig1)"
   ]
  },
  {
   "cell_type": "code",
   "execution_count": null,
   "metadata": {},
   "outputs": [],
   "source": []
  }
 ],
 "metadata": {
  "kernelspec": {
   "display_name": "Python 3.10.4 ('codeastro')",
   "language": "python",
   "name": "python3"
  },
  "language_info": {
   "codemirror_mode": {
    "name": "ipython",
    "version": 3
   },
   "file_extension": ".py",
   "mimetype": "text/x-python",
   "name": "python",
   "nbconvert_exporter": "python",
   "pygments_lexer": "ipython3",
   "version": "3.10.4"
  },
  "orig_nbformat": 4,
  "vscode": {
   "interpreter": {
    "hash": "095acbd932634ecd0ccd7ea5f26bb426ec2a6d85746d7a816cd5e427677f989c"
   }
  }
 },
 "nbformat": 4,
 "nbformat_minor": 2
}
