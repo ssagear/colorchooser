{
 "cells": [
  {
   "cell_type": "markdown",
   "metadata": {},
   "source": [
    "# plotpainter Tutorial"
   ]
  },
  {
   "cell_type": "code",
   "execution_count": 1,
   "metadata": {},
   "outputs": [],
   "source": [
    "import matplotlib.pyplot as plt\n",
    "import numpy as np\n",
    "\n",
    "from plotpainter import extracted_figure_class as efc\n",
    "from plotpainter import run_gui as run\n",
    "import PySimpleGUI as sg\n",
    "\n",
    "%load_ext autoreload\n",
    "%autoreload 2"
   ]
  },
  {
   "cell_type": "markdown",
   "metadata": {},
   "source": [
    "Let's create a set of test plots to see how `plotpainter` works. We'll create two subplots, each with three individual seta of data.\n",
    "\n",
    "The entire figure must be stored as a matplotlib Figure object, `fig`."
   ]
  },
  {
   "cell_type": "code",
   "execution_count": 2,
   "metadata": {},
   "outputs": [
    {
     "data": {
      "text/plain": [
       "<matplotlib.legend.Legend at 0x7fd85cf7dc90>"
      ]
     },
     "execution_count": 2,
     "metadata": {},
     "output_type": "execute_result"
    },
    {
     "data": {
      "image/png": "[encoded data removed]",
      "text/plain": [
       "<Figure size 720x360 with 2 Axes>"
      ]
     },
     "metadata": {
      "needs_background": "light"
     },
     "output_type": "display_data"
    }
   ],
   "source": [
    "fig, ax = plt.subplots(1,2,figsize = (10,5))\n",
    "\n",
    "ax[0].plot([0,1],[0,1],\n",
    "        color = 'k',\n",
    "        linewidth = 2, label = 'Peach')\n",
    "\n",
    "ax[0].plot([1,0],[0,1],\n",
    "        color = 'b',\n",
    "        linewidth = 2, label = 'Mango')\n",
    "\n",
    "ax[0].bar(x = [0,1,2],\n",
    "          height = [0.1, 0.35, 0.4],\n",
    "          width = 0.8, label = 'Papaya')\n",
    "\n",
    "ax[1].scatter([0,1,2], [0,1,2],\n",
    "              color = 'purple',\n",
    "              marker = 'o', label = 'Kiwi')\n",
    "\n",
    "ax[1].bar(x = [0,1,2],\n",
    "          height = [0.25, 0.5, 0.75],\n",
    "          width = 0.8, label = 'Apple')\n",
    "\n",
    "ax[1].errorbar([2,3,4], [0,1,2],\n",
    "                 yerr = [0.1,0.1,0.1],\n",
    "                 fmt = 'o',\n",
    "                 capsize = 2,\n",
    "                 label = 'Banana')\n",
    "\n",
    "ax[0].set_xlabel('X', fontsize = 14)\n",
    "ax[0].set_ylabel('Y', fontsize = 14)\n",
    "ax[1].set_xlabel('X', fontsize = 14)\n",
    "ax[1].set_ylabel('Y', fontsize = 14)\n",
    "ax[0].grid()\n",
    "ax[1].grid()\n",
    "\n",
    "fig.legend()"
   ]
  },
  {
   "cell_type": "code",
   "execution_count": 3,
   "metadata": {},
   "outputs": [],
   "source": [
    " extractedfig = efc.ExtractedFigure(fig=fig)"
   ]
  },
  {
   "cell_type": "markdown",
   "metadata": {},
   "source": [
    "To run the app, do `run.run_GUI(fig)`, passing in your Figure object.\n",
    "\n",
    "You can specify the subplot and artist (or dataset) for which you intend to change the color.\n",
    "\n",
    "When you're happy with the plot, you can save the file as a png.\n",
    "\n",
    "To quit the app, click the Exit button."
   ]
  },
  {
   "cell_type": "code",
   "execution_count": 41,
   "metadata": {},
   "outputs": [
    {
     "ename": "SystemExit",
     "evalue": "",
     "output_type": "error",
     "traceback": [
      "An exception has occurred, use %tb to see the full traceback.\n",
      "\u001b[0;31mSystemExit\u001b[0m\n"
     ]
    },
    {
     "name": "stderr",
     "output_type": "stream",
     "text": [
      "/Users/ssagear/opt/anaconda3/envs/codeastro/lib/python3.10/site-packages/IPython/core/interactiveshell.py:3406: UserWarning: To exit: use 'exit', 'quit', or Ctrl-D.\n",
      "  warn(\"To exit: use 'exit', 'quit', or Ctrl-D.\", stacklevel=1)\n"
     ]
    }
   ],
   "source": [
    "run.run_GUI(fig)"
   ]
  },
  {
   "cell_type": "code",
   "execution_count": null,
   "metadata": {},
   "outputs": [],
   "source": []
  }
 ],
 "metadata": {
  "kernelspec": {
   "display_name": "Python 3 (ipykernel)",
   "language": "python",
   "name": "python3"
  },
  "language_info": {
   "codemirror_mode": {
    "name": "ipython",
    "version": 3
   },
   "file_extension": ".py",
   "mimetype": "text/x-python",
   "name": "python",
   "nbconvert_exporter": "python",
   "pygments_lexer": "ipython3",
   "version": "3.10.4"
  },
  "vscode": {
   "interpreter": {
    "hash": "095acbd932634ecd0ccd7ea5f26bb426ec2a6d85746d7a816cd5e427677f989c"
   }
  }
 },
 "nbformat": 4,
 "nbformat_minor": 2
}
