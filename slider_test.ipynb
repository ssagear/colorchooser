{
 "cells": [
  {
   "cell_type": "code",
   "execution_count": null,
   "metadata": {},
   "outputs": [],
   "source": []
  },
  {
   "cell_type": "code",
   "execution_count": 9,
   "metadata": {},
   "outputs": [],
   "source": [
    "import PySimpleGUI as sg\n",
    "import numpy as np\n",
    "import matplotlib.pyplot as plt\n",
    "\n",
    "from matplotlib.backends.backend_tkagg import FigureCanvasTkAgg, NavigationToolbar2Tk"
   ]
  },
  {
   "cell_type": "code",
   "execution_count": 12,
   "metadata": {},
   "outputs": [
    {
     "name": "stdout",
     "output_type": "stream",
     "text": [
      "sd\n",
      "Plot {'controls_cv': None, 'fig_cv': None, 'color': '#ff0051', 'lineSlider': 2.0}\n",
      "sd\n",
      "Plot {'controls_cv': None, 'fig_cv': None, 'color': '#ff0051', 'lineSlider': 2.0}\n",
      "sd\n",
      "Exit {'controls_cv': None, 'fig_cv': None, 'color': '#ff0051', 'lineSlider': 2.0}\n"
     ]
    }
   ],
   "source": [
    "base_colors = ['b', 'g', 'r', 'c', 'm' ,'y', 'k', 'w']\n",
    "line_type = ['solid', 'dotted', 'dashed', 'dashdot']\n",
    "\n",
    "def draw_figure_w_toolbar(canvas, fig, canvas_toolbar):\n",
    "    if canvas.children:\n",
    "        for child in canvas.winfo_children():\n",
    "            child.destroy()\n",
    "    if canvas_toolbar.children:\n",
    "        for child in canvas_toolbar.winfo_children():\n",
    "            child.destroy()\n",
    "    figure_canvas_agg = FigureCanvasTkAgg(fig, master=canvas)\n",
    "    figure_canvas_agg.draw()\n",
    "    toolbar = Toolbar(figure_canvas_agg, canvas_toolbar)\n",
    "    toolbar.update()\n",
    "    figure_canvas_agg.get_tk_widget().pack(side='right', fill='both', expand=1)\n",
    "\n",
    "\n",
    "class Toolbar(NavigationToolbar2Tk):\n",
    "    def __init__(self, *args, **kwargs):\n",
    "        super(Toolbar, self).__init__(*args, **kwargs)\n",
    "\n",
    "\n",
    "# ------------------------------- PySimpleGUI CODE\n",
    "\n",
    "layout = [\n",
    "    [sg.T('Graph: y=sin(x)')],\n",
    "    [sg.B('Plot'), sg.B('Exit')],\n",
    "    [sg.T('Controls:')],\n",
    "    [sg.Canvas(key='controls_cv')],\n",
    "    [sg.T('Figure:')],\n",
    "    [sg.Column(\n",
    "        layout=[\n",
    "            [sg.Canvas(key='fig_cv',\n",
    "                       # it's important that you set this size\n",
    "                       size=(400 * 2, 400)\n",
    "                       )]\n",
    "        ],\n",
    "        background_color='#DAE0E6',\n",
    "        pad=(0, 0)\n",
    "    )],\n",
    "    [sg.In(key='color')],\n",
    "    [sg.ColorChooserButton(button_text='Choose Color', target='color')],\n",
    "    [sg.T('Choose line:  '), sg.Slider(orientation ='horizontal', key='lineSlider', range=(0,3))]\n",
    "]\n",
    "\n",
    "window = sg.Window('Graph with controls', layout)\n",
    "\n",
    "while True:\n",
    "    print('sd')\n",
    "    event, values = window.read()\n",
    "\n",
    "    hex_code = values['color']\n",
    "\n",
    "    line_index_float = values['lineSlider']\n",
    "    line_index = int(line_index_float)\n",
    "\n",
    "    initial_color = values['color']\n",
    "    initial_line = values['lineSlider']\n",
    "\n",
    "    print(event, values)\n",
    "\n",
    "\n",
    "    if event in (sg.WIN_CLOSED, 'Exit'):  # always,  always give a way out!\n",
    "        break\n",
    "    else:\n",
    "        # ------------------------------- PASTE YOUR MATPLOTLIB CODE HERE\n",
    "        plt.figure(1)\n",
    "        fig = plt.gcf()\n",
    "        DPI = fig.get_dpi()\n",
    "        # ------------------------------- you have to play with this size to reduce the movement error when the mouse hovers over the figure, it's close to canvas size\n",
    "        fig.set_size_inches(404 * 2 / float(DPI), 404 / float(DPI))\n",
    "        # -------------------------------\n",
    "        x = np.linspace(0, 2 * np.pi)\n",
    "        y = np.sin(x)\n",
    "        plt.clf()\n",
    "        plt.plot(x, y, color=hex_code, linestyle=line_type[line_index])\n",
    "        plt.title('y=sin(x)')\n",
    "        plt.xlabel('X')\n",
    "        plt.ylabel('Y')\n",
    "        plt.grid()\n",
    "\n",
    "        # ------------------------------- Instead of plt.show()\n",
    "        draw_figure_w_toolbar(window['fig_cv'].TKCanvas, fig, window['controls_cv'].TKCanvas)\n",
    "\n",
    "window.close()"
   ]
  },
  {
   "cell_type": "code",
   "execution_count": null,
   "metadata": {},
   "outputs": [],
   "source": []
  }
 ],
 "metadata": {
  "kernelspec": {
   "display_name": "Python 3.10.4 ('codeastro')",
   "language": "python",
   "name": "python3"
  },
  "language_info": {
   "codemirror_mode": {
    "name": "ipython",
    "version": 3
   },
   "file_extension": ".py",
   "mimetype": "text/x-python",
   "name": "python",
   "nbconvert_exporter": "python",
   "pygments_lexer": "ipython3",
   "version": "3.10.4"
  },
  "orig_nbformat": 4,
  "vscode": {
   "interpreter": {
    "hash": "095acbd932634ecd0ccd7ea5f26bb426ec2a6d85746d7a816cd5e427677f989c"
   }
  }
 },
 "nbformat": 4,
 "nbformat_minor": 2
}
